{
 "cells": [
  {
   "cell_type": "markdown",
   "metadata": {
    "id": "CHzann0hCS0_"
   },
   "source": [
    "**Тестовое задание для вакансии “Backend разработчик (Python, Junior)”**"
   ]
  },
  {
   "cell_type": "markdown",
   "metadata": {
    "id": "u1HcsKReCVAI"
   },
   "source": [
    "Import the necessary libraries, read data from JSON file"
   ]
  },
  {
   "cell_type": "code",
   "execution_count": null,
   "metadata": {
    "id": "0F2SVOVOCjVf"
   },
   "outputs": [],
   "source": [
    "import pandas as pd\n",
    "import json\n",
    "\n",
    "with open('data.json', encoding='utf-8') as f:\n",
    "    data = json.load(f)"
   ]
  },
  {
   "cell_type": "markdown",
   "metadata": {
    "id": "wejNE3uZDzQe"
   },
   "source": [
    "Task 1. Find the shipping cost rate for each warehouse"
   ]
  },
  {
   "cell_type": "code",
   "execution_count": null,
   "metadata": {
    "colab": {
     "base_uri": "https://localhost:8080/",
     "height": 206
    },
    "id": "D8udYooWD5Hp",
    "outputId": "5c1dfcb3-9406-4be4-e5e1-62c85db46f6d"
   },
   "outputs": [],
   "source": [
    "tariffs = pd.DataFrame(columns=[\"warehouse_name\", \"tariff\"])\n",
    "processed_warehouses = set()\n",
    "\n",
    "for order in data:\n",
    "    warehouse_name = order[\"warehouse_name\"]\n",
    "\n",
    "    if warehouse_name in processed_warehouses:\n",
    "        continue\n",
    "\n",
    "    products = order[\"products\"]\n",
    "\n",
    "    total_quantity = sum(product[\"quantity\"] for product in products)\n",
    "    total_highway_cost = abs(order[\"highway_cost\"])\n",
    "\n",
    "    per_item_cost = total_highway_cost / total_quantity\n",
    "\n",
    "    warehouse_df = pd.DataFrame(\n",
    "        {\"warehouse_name\": [warehouse_name], \"tariff\": [per_item_cost]}\n",
    "    )\n",
    "\n",
    "    tariffs = pd.concat([tariffs, warehouse_df], ignore_index=True)\n",
    "\n",
    "    processed_warehouses.add(warehouse_name)\n",
    "\n",
    "tariffs"
   ]
  },
  {
   "cell_type": "markdown",
   "metadata": {
    "id": "e0vJbyQ-GFO6"
   },
   "source": [
    "Task 2. Find the total quantity, total income, total expense and total profit for each product"
   ]
  },
  {
   "cell_type": "code",
   "execution_count": null,
   "metadata": {
    "colab": {
     "base_uri": "https://localhost:8080/",
     "height": 269
    },
    "id": "mQd2YdjgGHel",
    "outputId": "42784a73-cb6c-4fb8-a0b4-c4fdf7e0bc72"
   },
   "outputs": [],
   "source": [
    "results = pd.DataFrame(\n",
    "    columns=[\"product\", \"quantity\", \"income\", \"expenses\", \"profit\"]\n",
    ")\n",
    "\n",
    "for order in data:\n",
    "    products = order['products']\n",
    "    for product in products:\n",
    "        product_name = product['product']\n",
    "        quantity = product['quantity']\n",
    "        price = product['price']\n",
    "        income = price * quantity\n",
    "        expenses = abs(order['highway_cost']) * quantity\n",
    "        profit = income - expenses\n",
    "\n",
    "        row = {'product': product_name, 'quantity': quantity, 'income': income,\n",
    "               'expenses': expenses, 'profit': profit}\n",
    "\n",
    "        results = pd.concat([results, pd.DataFrame([row])], ignore_index=True)\n",
    "\n",
    "results = (\n",
    "    results.groupby(\"product\")\n",
    "    .agg(\n",
    "        {\n",
    "            \"quantity\": \"sum\",\n",
    "            \"income\": \"sum\",\n",
    "            \"expenses\": \"sum\",\n",
    "            \"profit\": \"sum\",\n",
    "        }\n",
    "    )\n",
    "    .reset_index()\n",
    ")\n",
    "\n",
    "results"
   ]
  },
  {
   "cell_type": "markdown",
   "metadata": {
    "id": "l1qgA4kLHq01"
   },
   "source": [
    "Task 3. Create a table with columns 'order_id' (order id) and 'order_profit' (profit received from the order). And also display the average profit of orders"
   ]
  },
  {
   "cell_type": "code",
   "execution_count": null,
   "metadata": {
    "colab": {
     "base_uri": "https://localhost:8080/",
     "height": 424
    },
    "id": "pBtaKOJrH3ub",
    "outputId": "888b3a1e-f334-4ae3-db9d-5dae0ec226b2"
   },
   "outputs": [],
   "source": [
    "profit_from_orders = pd.DataFrame(columns=[\"order_id\", \"order_profit\"])\n",
    "\n",
    "for order in data:\n",
    "    order_id = order[\"order_id\"]\n",
    "    products = order[\"products\"]\n",
    "    order_profit = sum(\n",
    "        product[\"price\"] * product[\"quantity\"] for product in products\n",
    "    ) - abs(order[\"highway_cost\"])\n",
    "\n",
    "    profit_from_orders.loc[len(profit_from_orders)] = [order_id, order_profit]\n",
    "\n",
    "profit_from_orders"
   ]
  },
  {
   "cell_type": "code",
   "execution_count": null,
   "metadata": {
    "colab": {
     "base_uri": "https://localhost:8080/"
    },
    "id": "R8DwfkfhI4c1",
    "outputId": "b361b522-5a93-4d80-8940-71293d02af9b"
   },
   "outputs": [],
   "source": [
    "average_profit = profit_from_orders[\"order_profit\"].mean()\n",
    "\n",
    "print(\"Средняя прибыль заказов:\", average_profit)"
   ]
  },
  {
   "cell_type": "markdown",
   "metadata": {
    "id": "uZ_146J1Jo-A"
   },
   "source": [
    "Task 4. Create a table like 'warehouse_name' , 'product','quantity', 'profit', 'percent_profit_product_of_warehouse' (percentage of the profit of a product ordered from a certain warehouse to the profit of this warehouse)"
   ]
  },
  {
   "cell_type": "code",
   "execution_count": null,
   "metadata": {
    "colab": {
     "base_uri": "https://localhost:8080/",
     "height": 424
    },
    "id": "ENcCHLPUJ_1n",
    "outputId": "9f79375d-1036-4392-c700-644bbb0b8667"
   },
   "outputs": [],
   "source": [
    "warehouse_profit = pd.DataFrame(\n",
    "    columns=[\"warehouse_name\", \"product\", \"quantity\", \"profit\"]\n",
    ")\n",
    "\n",
    "for order in data:\n",
    "    warehouse_name = order[\"warehouse_name\"]\n",
    "    products = order[\"products\"]\n",
    "\n",
    "    order_profit = 0\n",
    "    rows = []\n",
    "    for product in products:\n",
    "        product_name = product[\"product\"]\n",
    "        quantity = product[\"quantity\"]\n",
    "        price = product[\"price\"]\n",
    "        product_profit = price * quantity\n",
    "        order_profit += product_profit\n",
    "\n",
    "        rows.append(\n",
    "            {\n",
    "                \"warehouse_name\": warehouse_name,\n",
    "                \"product\": product_name,\n",
    "                \"quantity\": quantity,\n",
    "                \"profit\": product_profit,\n",
    "            }\n",
    "        )\n",
    "\n",
    "    order_df = pd.DataFrame(rows)\n",
    "\n",
    "    warehouse_profit = pd.merge(warehouse_profit, order_df, how=\"outer\")\n",
    "\n",
    "warehouse_profit[\"percent_profit_product_of_warehouse\"] = (\n",
    "    warehouse_profit[\"profit\"]\n",
    "    / warehouse_profit.groupby(\"warehouse_name\")[\"profit\"].transform(\"sum\")\n",
    "    * 100\n",
    ")\n",
    "\n",
    "warehouse_profit = warehouse_profit.sort_values(by=\"warehouse_name\")\n",
    "\n",
    "warehouse_profit"
   ]
  },
  {
   "cell_type": "markdown",
   "metadata": {
    "id": "2SNFGa3BPVZK"
   },
   "source": [
    "Task 5. Take the previous table and sort 'percent_profit_product_of_warehouse' in descending order, then calculate the accumulated percentage. Accumulated interest is a new column in this table, which should be called 'accumulated_percent_profit_product_of_warehouse'. At its core, this is an ever-increasing sum of the 'percent_profit_product_of_warehouse' column sorted in descending order."
   ]
  },
  {
   "cell_type": "code",
   "execution_count": null,
   "metadata": {
    "colab": {
     "base_uri": "https://localhost:8080/",
     "height": 424
    },
    "id": "mttZPdTwO66R",
    "outputId": "3307a598-f525-4599-85cd-3b1a07b32995"
   },
   "outputs": [],
   "source": [
    "warehouse_profit = warehouse_profit.sort_values(\n",
    "    by=[\"warehouse_name\", \"percent_profit_product_of_warehouse\"],\n",
    "    ascending=[True, False],\n",
    ")\n",
    "\n",
    "warehouse_profit[\n",
    "    \"accumulated_percent_profit_product_of_warehouse\"\n",
    "] = warehouse_profit.groupby(\"warehouse_name\")[\n",
    "    \"percent_profit_product_of_warehouse\"\n",
    "].cumsum()\n",
    "\n",
    "warehouse_profit"
   ]
  },
  {
   "cell_type": "markdown",
   "metadata": {
    "id": "h8u0bpEfQ3Mu"
   },
   "source": [
    "Task 6. Assign A,B,C categories based on the value of the accumulated percentage. If the value of the accumulated interest is less than or equal to 70, then category A. If from 70 to 90 (including 90), then category B. The rest - category C. Designate the new column in the table as 'category'"
   ]
  },
  {
   "cell_type": "code",
   "execution_count": null,
   "metadata": {
    "colab": {
     "base_uri": "https://localhost:8080/",
     "height": 424
    },
    "id": "FHWZay1OQ_ow",
    "outputId": "171b6bec-720c-4833-f15f-1e036824d668"
   },
   "outputs": [],
   "source": [
    "def assign_category(accumulated_percent):\n",
    "    if accumulated_percent <= 70:\n",
    "        return \"A\"\n",
    "    elif accumulated_percent <= 90:\n",
    "        return \"B\"\n",
    "    else:\n",
    "        return \"C\"\n",
    "\n",
    "warehouse_profit[\"category\"] = warehouse_profit[\n",
    "    \"accumulated_percent_profit_product_of_warehouse\"\n",
    "].apply(assign_category)\n",
    "\n",
    "warehouse_profit"
   ]
  }
 ],
 "metadata": {
  "colab": {
   "provenance": []
  },
  "kernelspec": {
   "display_name": "Python 3 (ipykernel)",
   "language": "python",
   "name": "python3"
  },
  "language_info": {
   "codemirror_mode": {
    "name": "ipython",
    "version": 3
   },
   "file_extension": ".py",
   "mimetype": "text/x-python",
   "name": "python",
   "nbconvert_exporter": "python",
   "pygments_lexer": "ipython3",
   "version": "3.10.9"
  }
 },
 "nbformat": 4,
 "nbformat_minor": 4
}
