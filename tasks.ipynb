{
 "cells": [
  {
   "cell_type": "markdown",
   "metadata": {
    "id": "CHzann0hCS0_"
   },
   "source": [
    "**Тестовое задание для вакансии “Backend разработчик (Python, Junior)”**"
   ]
  },
  {
   "cell_type": "markdown",
   "metadata": {
    "id": "u1HcsKReCVAI"
   },
   "source": [
    "Import the necessary libraries, read data from JSON file"
   ]
  },
  {
   "cell_type": "code",
   "execution_count": 1,
   "metadata": {
    "id": "0F2SVOVOCjVf"
   },
   "outputs": [
    {
     "ename": "UnicodeDecodeError",
     "evalue": "'charmap' codec can't decode byte 0x98 in position 323: character maps to <undefined>",
     "output_type": "error",
     "traceback": [
      "\u001B[1;31m---------------------------------------------------------------------------\u001B[0m",
      "\u001B[1;31mUnicodeDecodeError\u001B[0m                        Traceback (most recent call last)",
      "Cell \u001B[1;32mIn[1], line 5\u001B[0m\n\u001B[0;32m      2\u001B[0m \u001B[38;5;28;01mimport\u001B[39;00m \u001B[38;5;21;01mjson\u001B[39;00m\n\u001B[0;32m      4\u001B[0m \u001B[38;5;28;01mwith\u001B[39;00m \u001B[38;5;28mopen\u001B[39m(\u001B[38;5;124m'\u001B[39m\u001B[38;5;124mdata.json\u001B[39m\u001B[38;5;124m'\u001B[39m) \u001B[38;5;28;01mas\u001B[39;00m f:\n\u001B[1;32m----> 5\u001B[0m     data \u001B[38;5;241m=\u001B[39m \u001B[43mjson\u001B[49m\u001B[38;5;241;43m.\u001B[39;49m\u001B[43mload\u001B[49m\u001B[43m(\u001B[49m\u001B[43mf\u001B[49m\u001B[43m)\u001B[49m\n",
      "File \u001B[1;32m~\\AppData\\Local\\Programs\\Python\\Python310\\lib\\json\\__init__.py:293\u001B[0m, in \u001B[0;36mload\u001B[1;34m(fp, cls, object_hook, parse_float, parse_int, parse_constant, object_pairs_hook, **kw)\u001B[0m\n\u001B[0;32m    274\u001B[0m \u001B[38;5;28;01mdef\u001B[39;00m \u001B[38;5;21mload\u001B[39m(fp, \u001B[38;5;241m*\u001B[39m, \u001B[38;5;28mcls\u001B[39m\u001B[38;5;241m=\u001B[39m\u001B[38;5;28;01mNone\u001B[39;00m, object_hook\u001B[38;5;241m=\u001B[39m\u001B[38;5;28;01mNone\u001B[39;00m, parse_float\u001B[38;5;241m=\u001B[39m\u001B[38;5;28;01mNone\u001B[39;00m,\n\u001B[0;32m    275\u001B[0m         parse_int\u001B[38;5;241m=\u001B[39m\u001B[38;5;28;01mNone\u001B[39;00m, parse_constant\u001B[38;5;241m=\u001B[39m\u001B[38;5;28;01mNone\u001B[39;00m, object_pairs_hook\u001B[38;5;241m=\u001B[39m\u001B[38;5;28;01mNone\u001B[39;00m, \u001B[38;5;241m*\u001B[39m\u001B[38;5;241m*\u001B[39mkw):\n\u001B[0;32m    276\u001B[0m \u001B[38;5;250m    \u001B[39m\u001B[38;5;124;03m\"\"\"Deserialize ``fp`` (a ``.read()``-supporting file-like object containing\u001B[39;00m\n\u001B[0;32m    277\u001B[0m \u001B[38;5;124;03m    a JSON document) to a Python object.\u001B[39;00m\n\u001B[0;32m    278\u001B[0m \n\u001B[1;32m   (...)\u001B[0m\n\u001B[0;32m    291\u001B[0m \u001B[38;5;124;03m    kwarg; otherwise ``JSONDecoder`` is used.\u001B[39;00m\n\u001B[0;32m    292\u001B[0m \u001B[38;5;124;03m    \"\"\"\u001B[39;00m\n\u001B[1;32m--> 293\u001B[0m     \u001B[38;5;28;01mreturn\u001B[39;00m loads(\u001B[43mfp\u001B[49m\u001B[38;5;241;43m.\u001B[39;49m\u001B[43mread\u001B[49m\u001B[43m(\u001B[49m\u001B[43m)\u001B[49m,\n\u001B[0;32m    294\u001B[0m         \u001B[38;5;28mcls\u001B[39m\u001B[38;5;241m=\u001B[39m\u001B[38;5;28mcls\u001B[39m, object_hook\u001B[38;5;241m=\u001B[39mobject_hook,\n\u001B[0;32m    295\u001B[0m         parse_float\u001B[38;5;241m=\u001B[39mparse_float, parse_int\u001B[38;5;241m=\u001B[39mparse_int,\n\u001B[0;32m    296\u001B[0m         parse_constant\u001B[38;5;241m=\u001B[39mparse_constant, object_pairs_hook\u001B[38;5;241m=\u001B[39mobject_pairs_hook, \u001B[38;5;241m*\u001B[39m\u001B[38;5;241m*\u001B[39mkw)\n",
      "File \u001B[1;32m~\\AppData\\Local\\Programs\\Python\\Python310\\lib\\encodings\\cp1251.py:23\u001B[0m, in \u001B[0;36mIncrementalDecoder.decode\u001B[1;34m(self, input, final)\u001B[0m\n\u001B[0;32m     22\u001B[0m \u001B[38;5;28;01mdef\u001B[39;00m \u001B[38;5;21mdecode\u001B[39m(\u001B[38;5;28mself\u001B[39m, \u001B[38;5;28minput\u001B[39m, final\u001B[38;5;241m=\u001B[39m\u001B[38;5;28;01mFalse\u001B[39;00m):\n\u001B[1;32m---> 23\u001B[0m     \u001B[38;5;28;01mreturn\u001B[39;00m \u001B[43mcodecs\u001B[49m\u001B[38;5;241;43m.\u001B[39;49m\u001B[43mcharmap_decode\u001B[49m\u001B[43m(\u001B[49m\u001B[38;5;28;43minput\u001B[39;49m\u001B[43m,\u001B[49m\u001B[38;5;28;43mself\u001B[39;49m\u001B[38;5;241;43m.\u001B[39;49m\u001B[43merrors\u001B[49m\u001B[43m,\u001B[49m\u001B[43mdecoding_table\u001B[49m\u001B[43m)\u001B[49m[\u001B[38;5;241m0\u001B[39m]\n",
      "\u001B[1;31mUnicodeDecodeError\u001B[0m: 'charmap' codec can't decode byte 0x98 in position 323: character maps to <undefined>"
     ]
    }
   ],
   "source": [
    "import pandas as pd\n",
    "import json\n",
    "\n",
    "with open('data.json', encoding='utf-8') as f:\n",
    "    data = json.load(f)"
   ]
  },
  {
   "cell_type": "markdown",
   "metadata": {
    "id": "wejNE3uZDzQe"
   },
   "source": [
    "Task 1. Find the shipping cost rate for each warehouse"
   ]
  },
  {
   "cell_type": "code",
   "execution_count": null,
   "metadata": {
    "colab": {
     "base_uri": "https://localhost:8080/",
     "height": 206
    },
    "id": "D8udYooWD5Hp",
    "outputId": "5c1dfcb3-9406-4be4-e5e1-62c85db46f6d"
   },
   "outputs": [],
   "source": [
    "tariffs = pd.DataFrame(columns=[\"warehouse_name\", \"tariff\"])\n",
    "processed_warehouses = set()\n",
    "\n",
    "for order in data:\n",
    "    warehouse_name = order[\"warehouse_name\"]\n",
    "\n",
    "    if warehouse_name in processed_warehouses:\n",
    "        continue\n",
    "\n",
    "    products = order[\"products\"]\n",
    "\n",
    "    total_quantity = sum(product[\"quantity\"] for product in products)\n",
    "    total_highway_cost = abs(order[\"highway_cost\"])\n",
    "\n",
    "    per_item_cost = total_highway_cost / total_quantity\n",
    "\n",
    "    warehouse_df = pd.DataFrame(\n",
    "        {\"warehouse_name\": [warehouse_name], \"tariff\": [per_item_cost]}\n",
    "    )\n",
    "\n",
    "    tariffs = pd.concat([tariffs, warehouse_df], ignore_index=True)\n",
    "\n",
    "    processed_warehouses.add(warehouse_name)\n",
    "\n",
    "tariffs"
   ]
  },
  {
   "cell_type": "markdown",
   "metadata": {
    "id": "e0vJbyQ-GFO6"
   },
   "source": [
    "Task 2. Find the total quantity, total income, total expense and total profit for each product"
   ]
  },
  {
   "cell_type": "code",
   "execution_count": null,
   "metadata": {
    "colab": {
     "base_uri": "https://localhost:8080/",
     "height": 269
    },
    "id": "mQd2YdjgGHel",
    "outputId": "42784a73-cb6c-4fb8-a0b4-c4fdf7e0bc72"
   },
   "outputs": [],
   "source": [
    "results = pd.DataFrame(\n",
    "    columns=[\"product\", \"quantity\", \"income\", \"expenses\", \"profit\"]\n",
    ")\n",
    "\n",
    "for order in data:\n",
    "    products = order['products']\n",
    "    for product in products:\n",
    "        product_name = product['product']\n",
    "        quantity = product['quantity']\n",
    "        price = product['price']\n",
    "        income = price * quantity\n",
    "        expenses = abs(order['highway_cost']) * quantity\n",
    "        profit = income - expenses\n",
    "\n",
    "        row = {'product': product_name, 'quantity': quantity, 'income': income,\n",
    "               'expenses': expenses, 'profit': profit}\n",
    "\n",
    "        results = pd.concat([results, pd.DataFrame([row])], ignore_index=True)\n",
    "\n",
    "results = (\n",
    "    results.groupby(\"product\")\n",
    "    .agg(\n",
    "        {\n",
    "            \"quantity\": \"sum\",\n",
    "            \"income\": \"sum\",\n",
    "            \"expenses\": \"sum\",\n",
    "            \"profit\": \"sum\",\n",
    "        }\n",
    "    )\n",
    "    .reset_index()\n",
    ")\n",
    "\n",
    "results"
   ]
  },
  {
   "cell_type": "markdown",
   "metadata": {
    "id": "l1qgA4kLHq01"
   },
   "source": [
    "Task 3. Create a table with columns 'order_id' (order id) and 'order_profit' (profit received from the order). And also display the average profit of orders"
   ]
  },
  {
   "cell_type": "code",
   "execution_count": null,
   "metadata": {
    "colab": {
     "base_uri": "https://localhost:8080/",
     "height": 424
    },
    "id": "pBtaKOJrH3ub",
    "outputId": "888b3a1e-f334-4ae3-db9d-5dae0ec226b2"
   },
   "outputs": [],
   "source": [
    "profit_from_orders = pd.DataFrame(columns=[\"order_id\", \"order_profit\"])\n",
    "\n",
    "for order in data:\n",
    "    order_id = order[\"order_id\"]\n",
    "    products = order[\"products\"]\n",
    "    order_profit = sum(\n",
    "        product[\"price\"] * product[\"quantity\"] for product in products\n",
    "    ) - abs(order[\"highway_cost\"])\n",
    "\n",
    "    profit_from_orders.loc[len(profit_from_orders)] = [order_id, order_profit]\n",
    "\n",
    "profit_from_orders"
   ]
  },
  {
   "cell_type": "code",
   "execution_count": null,
   "metadata": {
    "colab": {
     "base_uri": "https://localhost:8080/"
    },
    "id": "R8DwfkfhI4c1",
    "outputId": "b361b522-5a93-4d80-8940-71293d02af9b"
   },
   "outputs": [],
   "source": [
    "average_profit = profit_from_orders[\"order_profit\"].mean()\n",
    "\n",
    "print(\"Средняя прибыль заказов:\", average_profit)"
   ]
  },
  {
   "cell_type": "markdown",
   "metadata": {
    "id": "uZ_146J1Jo-A"
   },
   "source": [
    "Task 4. Create a table like 'warehouse_name' , 'product','quantity', 'profit', 'percent_profit_product_of_warehouse' (percentage of the profit of a product ordered from a certain warehouse to the profit of this warehouse)"
   ]
  },
  {
   "cell_type": "code",
   "execution_count": null,
   "metadata": {
    "colab": {
     "base_uri": "https://localhost:8080/",
     "height": 424
    },
    "id": "ENcCHLPUJ_1n",
    "outputId": "9f79375d-1036-4392-c700-644bbb0b8667"
   },
   "outputs": [],
   "source": [
    "warehouse_profit = pd.DataFrame(\n",
    "    columns=[\"warehouse_name\", \"product\", \"quantity\", \"profit\"]\n",
    ")\n",
    "\n",
    "for order in data:\n",
    "    warehouse_name = order[\"warehouse_name\"]\n",
    "    products = order[\"products\"]\n",
    "\n",
    "    order_profit = 0\n",
    "    rows = []\n",
    "    for product in products:\n",
    "        product_name = product[\"product\"]\n",
    "        quantity = product[\"quantity\"]\n",
    "        price = product[\"price\"]\n",
    "        product_profit = price * quantity\n",
    "        order_profit += product_profit\n",
    "\n",
    "        rows.append(\n",
    "            {\n",
    "                \"warehouse_name\": warehouse_name,\n",
    "                \"product\": product_name,\n",
    "                \"quantity\": quantity,\n",
    "                \"profit\": product_profit,\n",
    "            }\n",
    "        )\n",
    "\n",
    "    order_df = pd.DataFrame(rows)\n",
    "\n",
    "    warehouse_profit = pd.merge(warehouse_profit, order_df, how=\"outer\")\n",
    "\n",
    "warehouse_profit[\"percent_profit_product_of_warehouse\"] = (\n",
    "    warehouse_profit[\"profit\"]\n",
    "    / warehouse_profit.groupby(\"warehouse_name\")[\"profit\"].transform(\"sum\")\n",
    "    * 100\n",
    ")\n",
    "\n",
    "warehouse_profit = warehouse_profit.sort_values(by=\"warehouse_name\")\n",
    "\n",
    "warehouse_profit"
   ]
  },
  {
   "cell_type": "markdown",
   "metadata": {
    "id": "2SNFGa3BPVZK"
   },
   "source": [
    "Task 5. Take the previous table and sort 'percent_profit_product_of_warehouse' in descending order, then calculate the accumulated percentage. Accumulated interest is a new column in this table, which should be called 'accumulated_percent_profit_product_of_warehouse'. At its core, this is an ever-increasing sum of the 'percent_profit_product_of_warehouse' column sorted in descending order."
   ]
  },
  {
   "cell_type": "code",
   "execution_count": null,
   "metadata": {
    "colab": {
     "base_uri": "https://localhost:8080/",
     "height": 424
    },
    "id": "mttZPdTwO66R",
    "outputId": "3307a598-f525-4599-85cd-3b1a07b32995"
   },
   "outputs": [],
   "source": [
    "warehouse_profit = warehouse_profit.sort_values(\n",
    "    by=[\"warehouse_name\", \"percent_profit_product_of_warehouse\"],\n",
    "    ascending=[True, False],\n",
    ")\n",
    "\n",
    "warehouse_profit[\n",
    "    \"accumulated_percent_profit_product_of_warehouse\"\n",
    "] = warehouse_profit.groupby(\"warehouse_name\")[\n",
    "    \"percent_profit_product_of_warehouse\"\n",
    "].cumsum()\n",
    "\n",
    "warehouse_profit"
   ]
  },
  {
   "cell_type": "markdown",
   "metadata": {
    "id": "h8u0bpEfQ3Mu"
   },
   "source": [
    "Task 6. Assign A,B,C categories based on the value of the accumulated percentage. If the value of the accumulated interest is less than or equal to 70, then category A. If from 70 to 90 (including 90), then category B. The rest - category C. Designate the new column in the table as 'category'"
   ]
  },
  {
   "cell_type": "code",
   "execution_count": null,
   "metadata": {
    "colab": {
     "base_uri": "https://localhost:8080/",
     "height": 424
    },
    "id": "FHWZay1OQ_ow",
    "outputId": "171b6bec-720c-4833-f15f-1e036824d668"
   },
   "outputs": [],
   "source": [
    "def assign_category(accumulated_percent):\n",
    "    if accumulated_percent <= 70:\n",
    "        return \"A\"\n",
    "    elif accumulated_percent <= 90:\n",
    "        return \"B\"\n",
    "    else:\n",
    "        return \"C\"\n",
    "\n",
    "warehouse_profit[\"category\"] = warehouse_profit[\n",
    "    \"accumulated_percent_profit_product_of_warehouse\"\n",
    "].apply(assign_category)\n",
    "\n",
    "warehouse_profit"
   ]
  }
 ],
 "metadata": {
  "colab": {
   "provenance": []
  },
  "kernelspec": {
   "display_name": "Python 3 (ipykernel)",
   "language": "python",
   "name": "python3"
  },
  "language_info": {
   "codemirror_mode": {
    "name": "ipython",
    "version": 3
   },
   "file_extension": ".py",
   "mimetype": "text/x-python",
   "name": "python",
   "nbconvert_exporter": "python",
   "pygments_lexer": "ipython3",
   "version": "3.10.9"
  }
 },
 "nbformat": 4,
 "nbformat_minor": 4
}
